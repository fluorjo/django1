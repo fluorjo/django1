{
 "cells": [
  {
   "cell_type": "code",
   "execution_count": 2,
   "id": "ebc50a6f",
   "metadata": {},
   "outputs": [
    {
     "data": {
      "text/plain": [
       "ParseResult(scheme='http', netloc='www.python.org:80', path='/guido/python.html', params='philosophy', query='overall=3', fragment='n10')"
      ]
     },
     "execution_count": 2,
     "metadata": {},
     "output_type": "execute_result"
    }
   ],
   "source": [
    "from urllib.parse import urlparse\n",
    "result=urlparse(\"http://www.python.org:80/guido/python.html;philosophy?overall=3#n10\")\n",
    "result"
   ]
  },
  {
   "cell_type": "markdown",
   "id": "ab228114",
   "metadata": {},
   "source": [
    "scheme='http':URL에 사용된 프로토콜\n",
    "netloc='www.python.org:80' : 네트워크 위치. user:password@host:port형식\n",
    "path='/guido/python.html' : 파일, 애플리케이션 경로.\n",
    "params='philosophy' : 애플리케이션에 전달될 매개변수\n",
    "query='overall=3' : 질의 문자열 또는 매개변수. '&'로 구분된 이름=값 쌍 형식으로 표시.\n",
    "fragment='n10' 문서 내의 앵커 등 조각을 지정. "
   ]
  },
  {
   "cell_type": "markdown",
   "id": "436f5cc7",
   "metadata": {},
   "source": [
    "urlopen(url,data=None,[timeout])\n",
    "\n",
    "url-문자열 or request클래스의 인스턴스\n",
    "url 뒤에 file 스킴(?)을 지정하면 로컬 파일 오픈 가능.\n",
    "GET=디폴트 요청 방식.  웹 서버에 전달할 파라미터가 있을 시 질의 문자열을 url인자에 포함해 보냄.\n",
    "요청 방식을 POST로 보내고 싶을 시 data 인자에 질의 문자열을 지정.\n",
    "timeout:응답 기다리는 타임아웃 시간."
   ]
  },
  {
   "cell_type": "code",
   "execution_count": 4,
   "id": "fc2b4723",
   "metadata": {},
   "outputs": [
    {
     "name": "stdout",
     "output_type": "stream",
     "text": [
      "<!doctype html>\n",
      "<html>\n",
      "<head>\n",
      "    <title>Example Domain</title>\n",
      "\n",
      "    <meta charset=\"utf-8\" />\n",
      "    <meta http-equiv=\"Content-type\" content=\"text/html; charset=utf-8\" />\n",
      "    <meta name=\"viewport\" content=\"width=device-width, initial-scale=1\" />\n",
      "    <style type=\"text/css\">\n",
      "    body {\n",
      "        background-color: #f0f0f2;\n",
      "        margin: 0;\n",
      "        padding: 0;\n",
      "        font-family: -apple-system, system-ui, BlinkMacSystemFont, \"Segoe UI\", \"Open Sans\", \"Helvetica Neue\", Helvetica, Arial, sans-serif;\n",
      "    \n"
     ]
    }
   ],
   "source": [
    "from urllib.request import urlopen\n",
    "f=urlopen(\"http://www.example.com\")\n",
    "print(f.read(500).decode('utf-8'))"
   ]
  },
  {
   "cell_type": "markdown",
   "id": "de826e54",
   "metadata": {},
   "source": [
    "### 쉘 프롬프트에서 실행시킬 경우\n",
    "\n",
    "python -c \"import urllib.request; print\n",
    "(urllib.request.urlopen('http://www.example.com').read(500).decode('utf-8')"
   ]
  },
  {
   "cell_type": "markdown",
   "id": "74a1427a",
   "metadata": {},
   "source": [
    "### 서버 실행시키기-명령 프롬프트\n",
    "\n",
    "cd C:\\Users\\fluor\\pro\\django1\\source\\RedBook\\ch2-test-server\n",
    "python manage.py runserver"
   ]
  },
  {
   "cell_type": "code",
   "execution_count": 18,
   "id": "d4218568",
   "metadata": {},
   "outputs": [
    {
     "name": "stdout",
     "output_type": "stream",
     "text": [
      "<!DOCTYPE html>\n",
      "<html lang=\"ko\">\n",
      "\n",
      "\n",
      "\n",
      "\n",
      "<head>\n",
      "\n",
      "    <meta charset=\"utf-8\">\n",
      "    <meta http-equiv=\"X-UA-Compatible\" content=\"IE=edge\">\n",
      "    <meta name=\"viewport\" content=\"width=device-width, initial-scale=1\">\n",
      "\n",
      "    <title>ch2-test-server</title>\n",
      "\n",
      "    <link rel=\"stylesheet\" href=\"https://maxcdn.bootstrapcdn.com/bootstrap/3.3.6/css/bootstrap.min.css\">\n",
      "    <link rel=\"stylesheet\" href=\"https://maxcdn.bootstrapcdn.com/bootstrap/3.3.6/css/bootstrap-theme.min.css\">\n",
      "\n",
      "    <!-- my css -->\n",
      "    <link rel=\"shortcut\n"
     ]
    }
   ],
   "source": [
    "#post 방식 요청\n",
    "\n",
    "from urllib.request import urlopen\n",
    "data=\"language=python&framework=django\"\n",
    "f=urlopen(\"http://127.0.0.1:8000\",bytes(data,encoding='utf-8'))\n",
    "print(f.read(500).decode('utf-8'))"
   ]
  },
  {
   "cell_type": "code",
   "execution_count": 23,
   "id": "49a84254",
   "metadata": {},
   "outputs": [
    {
     "name": "stdout",
     "output_type": "stream",
     "text": [
      "Date: Fri, 17 Jun 2022 14:39:43 GMT\n",
      "Server: WSGIServer/0.2 CPython/3.10.4\n",
      "Content-Type: text/html; charset=utf-8\n",
      "X-Frame-Options: DENY\n",
      "Content-Length: 1758\n",
      "X-Content-Type-Options: nosniff\n",
      "Referrer-Policy: same-origin\n",
      "Cross-Origin-Opener-Policy: same-origin\n",
      "\n",
      "\n",
      "<!DOCTYPE html>\n",
      "<html lang=\"ko\">\n",
      "\n",
      "\n",
      "\n",
      "\n",
      "<head>\n",
      "\n",
      "    <meta charset=\"utf-8\">\n",
      "    <meta http-equiv=\"X-UA-Compatible\" content=\"IE=edge\">\n",
      "    <meta name=\"viewport\" content=\"width=device-width, initial-scale=1\">\n",
      "\n",
      "    <title>ch2-test-server</title>\n",
      "\n",
      "    <link rel=\"stylesheet\" href=\"https://maxcdn.bootstrapcdn.com/bootstrap/3.3.6/css/bootstrap.min.css\">\n",
      "    <link rel=\"stylesheet\" href=\"https://maxcdn.bootstrapcdn.com/bootstrap/3.3.6/css/bootstrap-theme.min.css\">\n",
      "\n",
      "    <!-- my css -->\n",
      "    <link rel=\"shortcut\n"
     ]
    }
   ],
   "source": [
    "#request 클래스로 요청 헤더 지정\n",
    "\n",
    "\n",
    "\n",
    "from urllib.request import urlopen, Request\n",
    "from urllib.parse import urlencode\n",
    "\n",
    "url=\"http://127.0.0.1:8000\"\n",
    "data={\n",
    "    'name': 'jjj',\n",
    "    'email': 'ddfas@adf.com',\n",
    "    'url': 'dsjklwelk',\n",
    "}\n",
    "encData=urlencode(data)\n",
    "postData=bytes(encData,encoding='utf-8')\n",
    "req=Request(url, data=postData)\n",
    "req.add_header('Content-Type','application/x-www-form-urlencoded')\n",
    "f=urlopen(req)\n",
    "print(f.info())\n",
    "print(f.read(500).decode('utf-8'))"
   ]
  },
  {
   "cell_type": "code",
   "execution_count": null,
   "id": "f3c15224",
   "metadata": {},
   "outputs": [],
   "source": []
  }
 ],
 "metadata": {
  "kernelspec": {
   "display_name": "Python 3 (ipykernel)",
   "language": "python",
   "name": "python3"
  },
  "language_info": {
   "codemirror_mode": {
    "name": "ipython",
    "version": 3
   },
   "file_extension": ".py",
   "mimetype": "text/x-python",
   "name": "python",
   "nbconvert_exporter": "python",
   "pygments_lexer": "ipython3",
   "version": "3.9.12"
  }
 },
 "nbformat": 4,
 "nbformat_minor": 5
}
